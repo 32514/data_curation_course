{
 "cells": [
  {
   "cell_type": "markdown",
   "metadata": {},
   "source": [
    "## Assignment 1 Python Basics, Built-in Structures, Functions and Files\n",
    "\n",
    "This assignment will contain 5 assignments with details as below. The due date is September 21 (Friday), 2018 23:59PM. Each late day will result in 20% loss of total points."
   ]
  },
  {
   "cell_type": "markdown",
   "metadata": {},
   "source": [
    "### Question 1 (5 points) Love is complicated\n",
    "\n",
    "Try to import the `this` module and assign `love` to be `this` as:\n",
    "\n",
    "```python\n",
    "import this\n",
    "\n",
    "love = this\n",
    "```\n",
    "answer the following questions:\n",
    "(Hint: run the code and see the answers)\n",
    "1. this is love? \n",
    "2. love is True? \n",
    "3. love is False?\n",
    "4. love is not True or False?\n",
    "5. love is not True or False; love is love "
   ]
  },
  {
   "cell_type": "code",
   "execution_count": null,
   "metadata": {
    "collapsed": true
   },
   "outputs": [],
   "source": [
    "# Question 1\n",
    "\n"
   ]
  },
  {
   "cell_type": "markdown",
   "metadata": {},
   "source": [
    "### Question 2 (15 points) Palindrome\n",
    "\n",
    "Palindrome refers to a word, phrase, or sequence that reads the same backwards as forwards, e.g. madam. Given the following words, write a for loop to check whether they are palindrome or not. \n",
    "\n",
    "```python\n",
    "if the word is a pallindrom:\n",
    "    print('The word is a palindrome')\n",
    "else:\n",
    "    print('The word is not a palindrome')\n",
    "```\n",
    "\n",
    "Hints: write a function to reverse the string and then check whether the original string is equal to the revserd string\n",
    "\n",
    "Example input: python\n",
    "\n",
    "Example output: ```The word python is not a palindrome``` \n",
    "\n",
    "Example input: ada\n",
    "\n",
    "Example output: ```The word ada is a palindrome``` "
   ]
  },
  {
   "cell_type": "code",
   "execution_count": null,
   "metadata": {
    "collapsed": true
   },
   "outputs": [],
   "source": [
    "# Question 2\n",
    "\n",
    "word1 = 'kayak'\n",
    "word2 = 'apple'\n",
    "word3 = 'radar'\n",
    "word4 = 'data'\n",
    "\n"
   ]
  },
  {
   "cell_type": "markdown",
   "metadata": {},
   "source": [
    "### Question 3 (20 points) Find the prime numbers\n",
    "\n",
    "Write a program which will find all prime numbers between 0 and 10000 (both included).\n",
    "\n",
    "The numbers obtained should be printed in a comma-separated sequence on a single line.\n",
    "\n",
    "Hints: \n",
    "Consider use range(#begin, #end) method"
   ]
  },
  {
   "cell_type": "code",
   "execution_count": null,
   "metadata": {
    "collapsed": true
   },
   "outputs": [],
   "source": [
    "# Question 3\n"
   ]
  },
  {
   "cell_type": "markdown",
   "metadata": {},
   "source": [
    "### Question 4 (20 points) Binary search\n",
    "\n",
    "Binary search is a classical search method. Given a sorted list of n elements, write a function to search a given element x in the list. Specifically, searching a sorted array by repeatedly dividing the search interval in half. Begin with an interval covering the whole array. If the value of the search key is less than the item in the middle of the interval, narrow the interval to the lower half. Otherwise narrow it to the upper half. Repeatedly check until the value is found or the interval is empty.\n",
    "\n",
    "![binary](https://www.geeksforgeeks.org/wp-content/uploads/gq/2014/01/binary-search1.png)\n",
    "\n",
    "We know that the built-in **bisect** module implements binary search and insertion into a sorted list. For example, **bisect.bisect** finds the location where an element should be inserted to keep it sorted\n",
    "\n",
    "```python\n",
    "import bisect\n",
    "\n",
    "c = [1, 2, 2, 2, 3, 4, 7]\n",
    "bisect.bisect(c, 2) #output: 4\n",
    "```\n",
    "\n",
    "1. Implement your own binary search function, with two arguments: a sorted list and a number to be checked, such that function returns the index of the number in the list, if the number is not in the list, print \"The number is not in the list!\"\n",
    "\n",
    "    Example input: input_list = [1, 2, 3, 4, 7], number = 3\n",
    "\n",
    "    Example output: ```Number 3 is at the position 3!```\n",
    "\n",
    "    Example input: input_list = [1, 2, 3, 4, 7], number = 5\n",
    "\n",
    "    Example output: ```Number 5 is not in the list!```\n",
    "    \n",
    "2. Now you are given a list that is not sorted and with dumplicated elements. Try to sort the list and remove all duplicates to print the cleaned list. Then perform binary search similarly as above.\n",
    "\n",
    "    Example input: input_list = [4, 2, 2, 2, 3, 1, 7], number = 3\n",
    "    \n",
    "    Example output: ```The cleaned list is [1, 2, 3, 4, 7] and number 3 is at the position 3!```\n",
    "    \n",
    "    Example input: input_list = [4, 2, 2, 2, 3, 1, 7], number = 5\n",
    "    \n",
    "    Example output: ```The cleaned list is [1, 2, 3, 4, 7] and number 5 is is not in the list!```"
   ]
  },
  {
   "cell_type": "markdown",
   "metadata": {},
   "source": [
    "### Question 5 (20 points) Decrypt the Caesar cipher\n",
    "\n",
    "The Caesar cipher is named after Julius Caesar, who used it in his private correspondence. The action of a Caesar cipher is to replace each plaintext letter with a different one a fixed number of places down the alphabet. For example, with a left shift of 3, D would be replaced by A, E would become B, and so on (as shown below).\n",
    "\n",
    "\n",
    "![caesar](https://upload.wikimedia.org/wikipedia/commons/4/4a/Caesar_cipher_left_shift_of_3.svg)\n",
    "\n",
    "\n",
    "Example: the word **python** is encryped as **sbwkrq**, with a left shift of 3.\n",
    "\n",
    "- Write a function to decrypt the following message: ```wkh gdwd fxudwlrq frxuvh lv dzhvrph!```. \n",
    "\n",
    "```python\n",
    "def decrypt(encrypted_message):\n",
    "    # Write your code below\n",
    "\n",
    "return decrypted_message\n",
    "```\n",
    "\n",
    "- Add a new argument **shift** to the function to indicate the shift level and decrypt the following message:\n",
    "\n",
    "    ```jgzg iaxgzout oy znk sgtgmksktz ul jgzg znxuamnuaz ozy rolkieirk, lxus ixkgzout gtj otozogr yzuxgmk zu znk zosk cnkt oz oy gxinobkj lux vuyzkxoze ux hkiusky uhyurkzk gtj oy jkrkzkj```. \n",
    "    \n",
    "    Print also the level that you manage to decrypt the message as well "
   ]
  },
  {
   "cell_type": "code",
   "execution_count": null,
   "metadata": {
    "collapsed": true
   },
   "outputs": [],
   "source": [
    "# Question 5\n",
    "\n",
    "encrypted_message1 = 'wkh gdwd fxudwlrq frxuvh lv dzhvrph!'\n",
    "\n",
    "\n",
    "print(decrypted_message1)\n"
   ]
  },
  {
   "cell_type": "code",
   "execution_count": null,
   "metadata": {
    "collapsed": true
   },
   "outputs": [],
   "source": [
    "encrypted_message2 = '''jgzg iaxgzout oy znk sgtgmksktz ul jgzg znxuamnuaz ozy rolkieirk,\\\n",
    "lxus ixkgzout gtj otozogr yzuxgmk zu znk zosk cnkt oz oy gxinobkj \\\n",
    "lux vuyzkxoze ux hkiusky uhyurkzk gtj oy jkrkzkj.\n",
    "'''\n",
    "\n",
    "print(decrypted_message2)"
   ]
  },
  {
   "cell_type": "markdown",
   "metadata": {},
   "source": [
    "### Question 6 (20 points) Easter Egg\n",
    "\n",
    "The file ```pep-0020.txt``` contains the Zen of Python. Read the file as we show in the lecture and answer the following question. \n",
    "\n",
    "1. Print the number of lines in the file\n",
    "2. Identify which line contains the ```Easter Egg```\n",
    "3. Slice the file with content only about the ```Zen of Python``` and save it to a new file ```zen_of_python.txt```"
   ]
  },
  {
   "cell_type": "markdown",
   "metadata": {},
   "source": [
    "**Note** If you are using Google Colab, you need first to upload this file to the computing environment using the following code:\n",
    "```python\n",
    "from google.colab import files\n",
    "\n",
    "files.upload()\n",
    "```\n",
    "\n",
    "Then it will ask you to upload the file, select the file and it will be uploaded. You can verify whether it has been successfully uploaded at the left of the notebook `Files`"
   ]
  },
  {
   "cell_type": "code",
   "execution_count": null,
   "metadata": {
    "collapsed": true
   },
   "outputs": [],
   "source": [
    "# Question 6"
   ]
  }
 ],
 "metadata": {
  "kernelspec": {
   "display_name": "Python 3",
   "language": "python",
   "name": "python3"
  },
  "language_info": {
   "codemirror_mode": {
    "name": "ipython",
    "version": 3
   },
   "file_extension": ".py",
   "mimetype": "text/x-python",
   "name": "python",
   "nbconvert_exporter": "python",
   "pygments_lexer": "ipython3",
   "version": "3.6.2"
  }
 },
 "nbformat": 4,
 "nbformat_minor": 2
}
